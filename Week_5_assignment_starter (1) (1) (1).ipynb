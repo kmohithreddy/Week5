{
 "cells": [
  {
   "cell_type": "markdown",
   "id": "165166dd",
   "metadata": {},
   "source": [
    "# DS Automation Assignment"
   ]
  },
  {
   "cell_type": "markdown",
   "id": "c195af74",
   "metadata": {},
   "source": [
    "Using our prepared churn data from week 2:\n",
    "- use pycaret to find an ML algorithm that performs best on the data\n",
    "    - Choose a metric you think is best to use for finding the best model; by default, it is accuracy but it could be AUC, precision, recall, etc. The week 3 FTE has some information on these different metrics.\n",
    "- save the model to disk\n",
    "- create a Python script/file/module with a function that takes a pandas dataframe as an input and returns the probability of churn for each row in the dataframe\n",
    "    - your Python file/function should print out the predictions for new data (new_churn_data.csv)\n",
    "    - the true values for the new data are [1, 0, 0, 1, 0] if you're interested\n",
    "- test your Python module and function with the new data, new_churn_data.csv\n",
    "- write a short summary of the process and results at the end of this notebook\n",
    "- upload this Jupyter Notebook and Python file to a Github repository, and turn in a link to the repository in the week 5 assignment dropbox\n",
    "\n",
    "*Optional* challenges:\n",
    "- return the probability of churn for each new prediction, and the percentile where that prediction is in the distribution of probability predictions from the training dataset (e.g. a high probability of churn like 0.78 might be at the 90th percentile)\n",
    "- use other autoML packages, such as TPOT, H2O, MLBox, etc, and compare performance and features with pycaret\n",
    "- create a class in your Python module to hold the functions that you created\n",
    "- accept user input to specify a file using a tool such as Python's `input()` function, the `click` package for command-line arguments, or a GUI\n",
    "- Use the unmodified churn data (new_unmodified_churn_data.csv) in your Python script. This will require adding the same preprocessing steps from week 2 since this data is like the original unmodified dataset from week 1."
   ]
  },
  {
   "cell_type": "code",
   "execution_count": 10,
   "id": "198e6566",
   "metadata": {
    "scrolled": true
   },
   "outputs": [],
   "source": [
    "#pip install pycaret"
   ]
  },
  {
   "cell_type": "code",
   "execution_count": 2,
   "id": "ef6ce3b3",
   "metadata": {
    "scrolled": true
   },
   "outputs": [
    {
     "data": {
      "text/html": [
       "<style type=\"text/css\">\n",
       "#T_690a7_row12_col1 {\n",
       "  background-color: lightgreen;\n",
       "}\n",
       "</style>\n",
       "<table id=\"T_690a7\">\n",
       "  <thead>\n",
       "    <tr>\n",
       "      <th class=\"blank level0\" >&nbsp;</th>\n",
       "      <th id=\"T_690a7_level0_col0\" class=\"col_heading level0 col0\" >Description</th>\n",
       "      <th id=\"T_690a7_level0_col1\" class=\"col_heading level0 col1\" >Value</th>\n",
       "    </tr>\n",
       "  </thead>\n",
       "  <tbody>\n",
       "    <tr>\n",
       "      <th id=\"T_690a7_level0_row0\" class=\"row_heading level0 row0\" >0</th>\n",
       "      <td id=\"T_690a7_row0_col0\" class=\"data row0 col0\" >Session id</td>\n",
       "      <td id=\"T_690a7_row0_col1\" class=\"data row0 col1\" >42</td>\n",
       "    </tr>\n",
       "    <tr>\n",
       "      <th id=\"T_690a7_level0_row1\" class=\"row_heading level0 row1\" >1</th>\n",
       "      <td id=\"T_690a7_row1_col0\" class=\"data row1 col0\" >Target</td>\n",
       "      <td id=\"T_690a7_row1_col1\" class=\"data row1 col1\" >Churn</td>\n",
       "    </tr>\n",
       "    <tr>\n",
       "      <th id=\"T_690a7_level0_row2\" class=\"row_heading level0 row2\" >2</th>\n",
       "      <td id=\"T_690a7_row2_col0\" class=\"data row2 col0\" >Target type</td>\n",
       "      <td id=\"T_690a7_row2_col1\" class=\"data row2 col1\" >Binary</td>\n",
       "    </tr>\n",
       "    <tr>\n",
       "      <th id=\"T_690a7_level0_row3\" class=\"row_heading level0 row3\" >3</th>\n",
       "      <td id=\"T_690a7_row3_col0\" class=\"data row3 col0\" >Target mapping</td>\n",
       "      <td id=\"T_690a7_row3_col1\" class=\"data row3 col1\" >No: 0, Yes: 1</td>\n",
       "    </tr>\n",
       "    <tr>\n",
       "      <th id=\"T_690a7_level0_row4\" class=\"row_heading level0 row4\" >4</th>\n",
       "      <td id=\"T_690a7_row4_col0\" class=\"data row4 col0\" >Original data shape</td>\n",
       "      <td id=\"T_690a7_row4_col1\" class=\"data row4 col1\" >(7043, 8)</td>\n",
       "    </tr>\n",
       "    <tr>\n",
       "      <th id=\"T_690a7_level0_row5\" class=\"row_heading level0 row5\" >5</th>\n",
       "      <td id=\"T_690a7_row5_col0\" class=\"data row5 col0\" >Transformed data shape</td>\n",
       "      <td id=\"T_690a7_row5_col1\" class=\"data row5 col1\" >(7043, 13)</td>\n",
       "    </tr>\n",
       "    <tr>\n",
       "      <th id=\"T_690a7_level0_row6\" class=\"row_heading level0 row6\" >6</th>\n",
       "      <td id=\"T_690a7_row6_col0\" class=\"data row6 col0\" >Transformed train set shape</td>\n",
       "      <td id=\"T_690a7_row6_col1\" class=\"data row6 col1\" >(4930, 13)</td>\n",
       "    </tr>\n",
       "    <tr>\n",
       "      <th id=\"T_690a7_level0_row7\" class=\"row_heading level0 row7\" >7</th>\n",
       "      <td id=\"T_690a7_row7_col0\" class=\"data row7 col0\" >Transformed test set shape</td>\n",
       "      <td id=\"T_690a7_row7_col1\" class=\"data row7 col1\" >(2113, 13)</td>\n",
       "    </tr>\n",
       "    <tr>\n",
       "      <th id=\"T_690a7_level0_row8\" class=\"row_heading level0 row8\" >8</th>\n",
       "      <td id=\"T_690a7_row8_col0\" class=\"data row8 col0\" >Ordinal features</td>\n",
       "      <td id=\"T_690a7_row8_col1\" class=\"data row8 col1\" >1</td>\n",
       "    </tr>\n",
       "    <tr>\n",
       "      <th id=\"T_690a7_level0_row9\" class=\"row_heading level0 row9\" >9</th>\n",
       "      <td id=\"T_690a7_row9_col0\" class=\"data row9 col0\" >Numeric features</td>\n",
       "      <td id=\"T_690a7_row9_col1\" class=\"data row9 col1\" >3</td>\n",
       "    </tr>\n",
       "    <tr>\n",
       "      <th id=\"T_690a7_level0_row10\" class=\"row_heading level0 row10\" >10</th>\n",
       "      <td id=\"T_690a7_row10_col0\" class=\"data row10 col0\" >Categorical features</td>\n",
       "      <td id=\"T_690a7_row10_col1\" class=\"data row10 col1\" >4</td>\n",
       "    </tr>\n",
       "    <tr>\n",
       "      <th id=\"T_690a7_level0_row11\" class=\"row_heading level0 row11\" >11</th>\n",
       "      <td id=\"T_690a7_row11_col0\" class=\"data row11 col0\" >Rows with missing values</td>\n",
       "      <td id=\"T_690a7_row11_col1\" class=\"data row11 col1\" >0.2%</td>\n",
       "    </tr>\n",
       "    <tr>\n",
       "      <th id=\"T_690a7_level0_row12\" class=\"row_heading level0 row12\" >12</th>\n",
       "      <td id=\"T_690a7_row12_col0\" class=\"data row12 col0\" >Preprocess</td>\n",
       "      <td id=\"T_690a7_row12_col1\" class=\"data row12 col1\" >True</td>\n",
       "    </tr>\n",
       "    <tr>\n",
       "      <th id=\"T_690a7_level0_row13\" class=\"row_heading level0 row13\" >13</th>\n",
       "      <td id=\"T_690a7_row13_col0\" class=\"data row13 col0\" >Imputation type</td>\n",
       "      <td id=\"T_690a7_row13_col1\" class=\"data row13 col1\" >simple</td>\n",
       "    </tr>\n",
       "    <tr>\n",
       "      <th id=\"T_690a7_level0_row14\" class=\"row_heading level0 row14\" >14</th>\n",
       "      <td id=\"T_690a7_row14_col0\" class=\"data row14 col0\" >Numeric imputation</td>\n",
       "      <td id=\"T_690a7_row14_col1\" class=\"data row14 col1\" >mean</td>\n",
       "    </tr>\n",
       "    <tr>\n",
       "      <th id=\"T_690a7_level0_row15\" class=\"row_heading level0 row15\" >15</th>\n",
       "      <td id=\"T_690a7_row15_col0\" class=\"data row15 col0\" >Categorical imputation</td>\n",
       "      <td id=\"T_690a7_row15_col1\" class=\"data row15 col1\" >mode</td>\n",
       "    </tr>\n",
       "    <tr>\n",
       "      <th id=\"T_690a7_level0_row16\" class=\"row_heading level0 row16\" >16</th>\n",
       "      <td id=\"T_690a7_row16_col0\" class=\"data row16 col0\" >Maximum one-hot encoding</td>\n",
       "      <td id=\"T_690a7_row16_col1\" class=\"data row16 col1\" >25</td>\n",
       "    </tr>\n",
       "    <tr>\n",
       "      <th id=\"T_690a7_level0_row17\" class=\"row_heading level0 row17\" >17</th>\n",
       "      <td id=\"T_690a7_row17_col0\" class=\"data row17 col0\" >Encoding method</td>\n",
       "      <td id=\"T_690a7_row17_col1\" class=\"data row17 col1\" >None</td>\n",
       "    </tr>\n",
       "    <tr>\n",
       "      <th id=\"T_690a7_level0_row18\" class=\"row_heading level0 row18\" >18</th>\n",
       "      <td id=\"T_690a7_row18_col0\" class=\"data row18 col0\" >Fold Generator</td>\n",
       "      <td id=\"T_690a7_row18_col1\" class=\"data row18 col1\" >StratifiedKFold</td>\n",
       "    </tr>\n",
       "    <tr>\n",
       "      <th id=\"T_690a7_level0_row19\" class=\"row_heading level0 row19\" >19</th>\n",
       "      <td id=\"T_690a7_row19_col0\" class=\"data row19 col0\" >Fold Number</td>\n",
       "      <td id=\"T_690a7_row19_col1\" class=\"data row19 col1\" >10</td>\n",
       "    </tr>\n",
       "    <tr>\n",
       "      <th id=\"T_690a7_level0_row20\" class=\"row_heading level0 row20\" >20</th>\n",
       "      <td id=\"T_690a7_row20_col0\" class=\"data row20 col0\" >CPU Jobs</td>\n",
       "      <td id=\"T_690a7_row20_col1\" class=\"data row20 col1\" >-1</td>\n",
       "    </tr>\n",
       "    <tr>\n",
       "      <th id=\"T_690a7_level0_row21\" class=\"row_heading level0 row21\" >21</th>\n",
       "      <td id=\"T_690a7_row21_col0\" class=\"data row21 col0\" >Use GPU</td>\n",
       "      <td id=\"T_690a7_row21_col1\" class=\"data row21 col1\" >False</td>\n",
       "    </tr>\n",
       "    <tr>\n",
       "      <th id=\"T_690a7_level0_row22\" class=\"row_heading level0 row22\" >22</th>\n",
       "      <td id=\"T_690a7_row22_col0\" class=\"data row22 col0\" >Log Experiment</td>\n",
       "      <td id=\"T_690a7_row22_col1\" class=\"data row22 col1\" >False</td>\n",
       "    </tr>\n",
       "    <tr>\n",
       "      <th id=\"T_690a7_level0_row23\" class=\"row_heading level0 row23\" >23</th>\n",
       "      <td id=\"T_690a7_row23_col0\" class=\"data row23 col0\" >Experiment Name</td>\n",
       "      <td id=\"T_690a7_row23_col1\" class=\"data row23 col1\" >clf-default-name</td>\n",
       "    </tr>\n",
       "    <tr>\n",
       "      <th id=\"T_690a7_level0_row24\" class=\"row_heading level0 row24\" >24</th>\n",
       "      <td id=\"T_690a7_row24_col0\" class=\"data row24 col0\" >USI</td>\n",
       "      <td id=\"T_690a7_row24_col1\" class=\"data row24 col1\" >207c</td>\n",
       "    </tr>\n",
       "  </tbody>\n",
       "</table>\n"
      ],
      "text/plain": [
       "<pandas.io.formats.style.Styler at 0x2ad56d57150>"
      ]
     },
     "metadata": {},
     "output_type": "display_data"
    }
   ],
   "source": [
    "from pycaret.classification import *\n",
    "import pandas as pd\n",
    "\n",
    "churn_data = pd.read_csv('D:/churn_data.csv')\n",
    "\n",
    "clf_setup = setup(data=churn_data, target='Churn', session_id=42)"
   ]
  },
  {
   "cell_type": "code",
   "execution_count": 3,
   "id": "e4d931c8",
   "metadata": {
    "scrolled": true
   },
   "outputs": [
    {
     "data": {
      "text/html": [],
      "text/plain": [
       "<IPython.core.display.HTML object>"
      ]
     },
     "metadata": {},
     "output_type": "display_data"
    },
    {
     "data": {
      "text/html": [
       "<style type=\"text/css\">\n",
       "#T_df364 th {\n",
       "  text-align: left;\n",
       "}\n",
       "#T_df364_row0_col0, #T_df364_row0_col1, #T_df364_row0_col3, #T_df364_row0_col4, #T_df364_row0_col5, #T_df364_row0_col6, #T_df364_row0_col7, #T_df364_row1_col0, #T_df364_row1_col1, #T_df364_row1_col2, #T_df364_row1_col3, #T_df364_row1_col5, #T_df364_row2_col0, #T_df364_row2_col1, #T_df364_row2_col2, #T_df364_row2_col3, #T_df364_row2_col4, #T_df364_row2_col6, #T_df364_row2_col7, #T_df364_row3_col0, #T_df364_row3_col1, #T_df364_row3_col2, #T_df364_row3_col3, #T_df364_row3_col4, #T_df364_row3_col5, #T_df364_row3_col6, #T_df364_row3_col7, #T_df364_row4_col0, #T_df364_row4_col1, #T_df364_row4_col2, #T_df364_row4_col3, #T_df364_row4_col4, #T_df364_row4_col5, #T_df364_row4_col6, #T_df364_row4_col7, #T_df364_row5_col0, #T_df364_row5_col1, #T_df364_row5_col2, #T_df364_row5_col3, #T_df364_row5_col4, #T_df364_row5_col5, #T_df364_row5_col6, #T_df364_row5_col7, #T_df364_row6_col0, #T_df364_row6_col1, #T_df364_row6_col2, #T_df364_row6_col3, #T_df364_row6_col4, #T_df364_row6_col5, #T_df364_row6_col6, #T_df364_row6_col7, #T_df364_row7_col0, #T_df364_row7_col1, #T_df364_row7_col2, #T_df364_row7_col3, #T_df364_row7_col4, #T_df364_row7_col5, #T_df364_row7_col6, #T_df364_row7_col7, #T_df364_row8_col0, #T_df364_row8_col1, #T_df364_row8_col2, #T_df364_row8_col3, #T_df364_row8_col4, #T_df364_row8_col5, #T_df364_row8_col6, #T_df364_row8_col7, #T_df364_row9_col0, #T_df364_row9_col1, #T_df364_row9_col2, #T_df364_row9_col3, #T_df364_row9_col4, #T_df364_row9_col5, #T_df364_row9_col6, #T_df364_row9_col7, #T_df364_row10_col0, #T_df364_row10_col1, #T_df364_row10_col2, #T_df364_row10_col3, #T_df364_row10_col4, #T_df364_row10_col5, #T_df364_row10_col6, #T_df364_row10_col7, #T_df364_row11_col0, #T_df364_row11_col1, #T_df364_row11_col2, #T_df364_row11_col3, #T_df364_row11_col4, #T_df364_row11_col5, #T_df364_row11_col6, #T_df364_row11_col7, #T_df364_row12_col0, #T_df364_row12_col2, #T_df364_row12_col4, #T_df364_row12_col5, #T_df364_row12_col6, #T_df364_row12_col7, #T_df364_row13_col0, #T_df364_row13_col1, #T_df364_row13_col2, #T_df364_row13_col3, #T_df364_row13_col4, #T_df364_row13_col5, #T_df364_row13_col6, #T_df364_row13_col7 {\n",
       "  text-align: left;\n",
       "}\n",
       "#T_df364_row0_col2, #T_df364_row1_col4, #T_df364_row1_col6, #T_df364_row1_col7, #T_df364_row2_col5, #T_df364_row12_col1, #T_df364_row12_col3 {\n",
       "  text-align: left;\n",
       "  background-color: yellow;\n",
       "}\n",
       "#T_df364_row0_col8, #T_df364_row2_col8, #T_df364_row3_col8, #T_df364_row4_col8, #T_df364_row5_col8, #T_df364_row6_col8, #T_df364_row7_col8, #T_df364_row8_col8, #T_df364_row9_col8, #T_df364_row10_col8, #T_df364_row11_col8, #T_df364_row12_col8, #T_df364_row13_col8 {\n",
       "  text-align: left;\n",
       "  background-color: lightgrey;\n",
       "}\n",
       "#T_df364_row1_col8 {\n",
       "  text-align: left;\n",
       "  background-color: yellow;\n",
       "  background-color: lightgrey;\n",
       "}\n",
       "</style>\n",
       "<table id=\"T_df364\">\n",
       "  <thead>\n",
       "    <tr>\n",
       "      <th class=\"blank level0\" >&nbsp;</th>\n",
       "      <th id=\"T_df364_level0_col0\" class=\"col_heading level0 col0\" >Model</th>\n",
       "      <th id=\"T_df364_level0_col1\" class=\"col_heading level0 col1\" >Accuracy</th>\n",
       "      <th id=\"T_df364_level0_col2\" class=\"col_heading level0 col2\" >AUC</th>\n",
       "      <th id=\"T_df364_level0_col3\" class=\"col_heading level0 col3\" >Recall</th>\n",
       "      <th id=\"T_df364_level0_col4\" class=\"col_heading level0 col4\" >Prec.</th>\n",
       "      <th id=\"T_df364_level0_col5\" class=\"col_heading level0 col5\" >F1</th>\n",
       "      <th id=\"T_df364_level0_col6\" class=\"col_heading level0 col6\" >Kappa</th>\n",
       "      <th id=\"T_df364_level0_col7\" class=\"col_heading level0 col7\" >MCC</th>\n",
       "      <th id=\"T_df364_level0_col8\" class=\"col_heading level0 col8\" >TT (Sec)</th>\n",
       "    </tr>\n",
       "  </thead>\n",
       "  <tbody>\n",
       "    <tr>\n",
       "      <th id=\"T_df364_level0_row0\" class=\"row_heading level0 row0\" >lr</th>\n",
       "      <td id=\"T_df364_row0_col0\" class=\"data row0 col0\" >Logistic Regression</td>\n",
       "      <td id=\"T_df364_row0_col1\" class=\"data row0 col1\" >0.7361</td>\n",
       "      <td id=\"T_df364_row0_col2\" class=\"data row0 col2\" >0.8322</td>\n",
       "      <td id=\"T_df364_row0_col3\" class=\"data row0 col3\" >0.7361</td>\n",
       "      <td id=\"T_df364_row0_col4\" class=\"data row0 col4\" >0.6316</td>\n",
       "      <td id=\"T_df364_row0_col5\" class=\"data row0 col5\" >0.6276</td>\n",
       "      <td id=\"T_df364_row0_col6\" class=\"data row0 col6\" >0.0118</td>\n",
       "      <td id=\"T_df364_row0_col7\" class=\"data row0 col7\" >0.0332</td>\n",
       "      <td id=\"T_df364_row0_col8\" class=\"data row0 col8\" >1.8600</td>\n",
       "    </tr>\n",
       "    <tr>\n",
       "      <th id=\"T_df364_level0_row1\" class=\"row_heading level0 row1\" >nb</th>\n",
       "      <td id=\"T_df364_row1_col0\" class=\"data row1 col0\" >Naive Bayes</td>\n",
       "      <td id=\"T_df364_row1_col1\" class=\"data row1 col1\" >0.7132</td>\n",
       "      <td id=\"T_df364_row1_col2\" class=\"data row1 col2\" >0.8107</td>\n",
       "      <td id=\"T_df364_row1_col3\" class=\"data row1 col3\" >0.7132</td>\n",
       "      <td id=\"T_df364_row1_col4\" class=\"data row1 col4\" >0.7866</td>\n",
       "      <td id=\"T_df364_row1_col5\" class=\"data row1 col5\" >0.7292</td>\n",
       "      <td id=\"T_df364_row1_col6\" class=\"data row1 col6\" >0.3916</td>\n",
       "      <td id=\"T_df364_row1_col7\" class=\"data row1 col7\" >0.4209</td>\n",
       "      <td id=\"T_df364_row1_col8\" class=\"data row1 col8\" >0.1420</td>\n",
       "    </tr>\n",
       "    <tr>\n",
       "      <th id=\"T_df364_level0_row2\" class=\"row_heading level0 row2\" >knn</th>\n",
       "      <td id=\"T_df364_row2_col0\" class=\"data row2 col0\" >K Neighbors Classifier</td>\n",
       "      <td id=\"T_df364_row2_col1\" class=\"data row2 col1\" >0.7566</td>\n",
       "      <td id=\"T_df364_row2_col2\" class=\"data row2 col2\" >0.7281</td>\n",
       "      <td id=\"T_df364_row2_col3\" class=\"data row2 col3\" >0.7566</td>\n",
       "      <td id=\"T_df364_row2_col4\" class=\"data row2 col4\" >0.7398</td>\n",
       "      <td id=\"T_df364_row2_col5\" class=\"data row2 col5\" >0.7442</td>\n",
       "      <td id=\"T_df364_row2_col6\" class=\"data row2 col6\" >0.3205</td>\n",
       "      <td id=\"T_df364_row2_col7\" class=\"data row2 col7\" >0.3265</td>\n",
       "      <td id=\"T_df364_row2_col8\" class=\"data row2 col8\" >0.2520</td>\n",
       "    </tr>\n",
       "    <tr>\n",
       "      <th id=\"T_df364_level0_row3\" class=\"row_heading level0 row3\" >et</th>\n",
       "      <td id=\"T_df364_row3_col0\" class=\"data row3 col0\" >Extra Trees Classifier</td>\n",
       "      <td id=\"T_df364_row3_col1\" class=\"data row3 col1\" >0.7347</td>\n",
       "      <td id=\"T_df364_row3_col2\" class=\"data row3 col2\" >0.6689</td>\n",
       "      <td id=\"T_df364_row3_col3\" class=\"data row3 col3\" >0.7347</td>\n",
       "      <td id=\"T_df364_row3_col4\" class=\"data row3 col4\" >0.5398</td>\n",
       "      <td id=\"T_df364_row3_col5\" class=\"data row3 col5\" >0.6223</td>\n",
       "      <td id=\"T_df364_row3_col6\" class=\"data row3 col6\" >0.0000</td>\n",
       "      <td id=\"T_df364_row3_col7\" class=\"data row3 col7\" >0.0000</td>\n",
       "      <td id=\"T_df364_row3_col8\" class=\"data row3 col8\" >0.3720</td>\n",
       "    </tr>\n",
       "    <tr>\n",
       "      <th id=\"T_df364_level0_row4\" class=\"row_heading level0 row4\" >rf</th>\n",
       "      <td id=\"T_df364_row4_col0\" class=\"data row4 col0\" >Random Forest Classifier</td>\n",
       "      <td id=\"T_df364_row4_col1\" class=\"data row4 col1\" >0.7347</td>\n",
       "      <td id=\"T_df364_row4_col2\" class=\"data row4 col2\" >0.6656</td>\n",
       "      <td id=\"T_df364_row4_col3\" class=\"data row4 col3\" >0.7347</td>\n",
       "      <td id=\"T_df364_row4_col4\" class=\"data row4 col4\" >0.5398</td>\n",
       "      <td id=\"T_df364_row4_col5\" class=\"data row4 col5\" >0.6223</td>\n",
       "      <td id=\"T_df364_row4_col6\" class=\"data row4 col6\" >0.0000</td>\n",
       "      <td id=\"T_df364_row4_col7\" class=\"data row4 col7\" >0.0000</td>\n",
       "      <td id=\"T_df364_row4_col8\" class=\"data row4 col8\" >0.4920</td>\n",
       "    </tr>\n",
       "    <tr>\n",
       "      <th id=\"T_df364_level0_row5\" class=\"row_heading level0 row5\" >lightgbm</th>\n",
       "      <td id=\"T_df364_row5_col0\" class=\"data row5 col0\" >Light Gradient Boosting Machine</td>\n",
       "      <td id=\"T_df364_row5_col1\" class=\"data row5 col1\" >0.7347</td>\n",
       "      <td id=\"T_df364_row5_col2\" class=\"data row5 col2\" >0.5377</td>\n",
       "      <td id=\"T_df364_row5_col3\" class=\"data row5 col3\" >0.7347</td>\n",
       "      <td id=\"T_df364_row5_col4\" class=\"data row5 col4\" >0.5398</td>\n",
       "      <td id=\"T_df364_row5_col5\" class=\"data row5 col5\" >0.6223</td>\n",
       "      <td id=\"T_df364_row5_col6\" class=\"data row5 col6\" >0.0000</td>\n",
       "      <td id=\"T_df364_row5_col7\" class=\"data row5 col7\" >0.0000</td>\n",
       "      <td id=\"T_df364_row5_col8\" class=\"data row5 col8\" >0.3080</td>\n",
       "    </tr>\n",
       "    <tr>\n",
       "      <th id=\"T_df364_level0_row6\" class=\"row_heading level0 row6\" >dt</th>\n",
       "      <td id=\"T_df364_row6_col0\" class=\"data row6 col0\" >Decision Tree Classifier</td>\n",
       "      <td id=\"T_df364_row6_col1\" class=\"data row6 col1\" >0.7347</td>\n",
       "      <td id=\"T_df364_row6_col2\" class=\"data row6 col2\" >0.5000</td>\n",
       "      <td id=\"T_df364_row6_col3\" class=\"data row6 col3\" >0.7347</td>\n",
       "      <td id=\"T_df364_row6_col4\" class=\"data row6 col4\" >0.5398</td>\n",
       "      <td id=\"T_df364_row6_col5\" class=\"data row6 col5\" >0.6223</td>\n",
       "      <td id=\"T_df364_row6_col6\" class=\"data row6 col6\" >0.0000</td>\n",
       "      <td id=\"T_df364_row6_col7\" class=\"data row6 col7\" >0.0000</td>\n",
       "      <td id=\"T_df364_row6_col8\" class=\"data row6 col8\" >0.1500</td>\n",
       "    </tr>\n",
       "    <tr>\n",
       "      <th id=\"T_df364_level0_row7\" class=\"row_heading level0 row7\" >qda</th>\n",
       "      <td id=\"T_df364_row7_col0\" class=\"data row7 col0\" >Quadratic Discriminant Analysis</td>\n",
       "      <td id=\"T_df364_row7_col1\" class=\"data row7 col1\" >0.7347</td>\n",
       "      <td id=\"T_df364_row7_col2\" class=\"data row7 col2\" >0.5000</td>\n",
       "      <td id=\"T_df364_row7_col3\" class=\"data row7 col3\" >0.7347</td>\n",
       "      <td id=\"T_df364_row7_col4\" class=\"data row7 col4\" >0.5398</td>\n",
       "      <td id=\"T_df364_row7_col5\" class=\"data row7 col5\" >0.6223</td>\n",
       "      <td id=\"T_df364_row7_col6\" class=\"data row7 col6\" >0.0000</td>\n",
       "      <td id=\"T_df364_row7_col7\" class=\"data row7 col7\" >0.0000</td>\n",
       "      <td id=\"T_df364_row7_col8\" class=\"data row7 col8\" >0.6300</td>\n",
       "    </tr>\n",
       "    <tr>\n",
       "      <th id=\"T_df364_level0_row8\" class=\"row_heading level0 row8\" >ada</th>\n",
       "      <td id=\"T_df364_row8_col0\" class=\"data row8 col0\" >Ada Boost Classifier</td>\n",
       "      <td id=\"T_df364_row8_col1\" class=\"data row8 col1\" >0.7347</td>\n",
       "      <td id=\"T_df364_row8_col2\" class=\"data row8 col2\" >0.5000</td>\n",
       "      <td id=\"T_df364_row8_col3\" class=\"data row8 col3\" >0.7347</td>\n",
       "      <td id=\"T_df364_row8_col4\" class=\"data row8 col4\" >0.5398</td>\n",
       "      <td id=\"T_df364_row8_col5\" class=\"data row8 col5\" >0.6223</td>\n",
       "      <td id=\"T_df364_row8_col6\" class=\"data row8 col6\" >0.0000</td>\n",
       "      <td id=\"T_df364_row8_col7\" class=\"data row8 col7\" >0.0000</td>\n",
       "      <td id=\"T_df364_row8_col8\" class=\"data row8 col8\" >0.2060</td>\n",
       "    </tr>\n",
       "    <tr>\n",
       "      <th id=\"T_df364_level0_row9\" class=\"row_heading level0 row9\" >gbc</th>\n",
       "      <td id=\"T_df364_row9_col0\" class=\"data row9 col0\" >Gradient Boosting Classifier</td>\n",
       "      <td id=\"T_df364_row9_col1\" class=\"data row9 col1\" >0.7347</td>\n",
       "      <td id=\"T_df364_row9_col2\" class=\"data row9 col2\" >0.5000</td>\n",
       "      <td id=\"T_df364_row9_col3\" class=\"data row9 col3\" >0.7347</td>\n",
       "      <td id=\"T_df364_row9_col4\" class=\"data row9 col4\" >0.5398</td>\n",
       "      <td id=\"T_df364_row9_col5\" class=\"data row9 col5\" >0.6223</td>\n",
       "      <td id=\"T_df364_row9_col6\" class=\"data row9 col6\" >0.0000</td>\n",
       "      <td id=\"T_df364_row9_col7\" class=\"data row9 col7\" >0.0000</td>\n",
       "      <td id=\"T_df364_row9_col8\" class=\"data row9 col8\" >0.5280</td>\n",
       "    </tr>\n",
       "    <tr>\n",
       "      <th id=\"T_df364_level0_row10\" class=\"row_heading level0 row10\" >lda</th>\n",
       "      <td id=\"T_df364_row10_col0\" class=\"data row10 col0\" >Linear Discriminant Analysis</td>\n",
       "      <td id=\"T_df364_row10_col1\" class=\"data row10 col1\" >0.7347</td>\n",
       "      <td id=\"T_df364_row10_col2\" class=\"data row10 col2\" >0.5000</td>\n",
       "      <td id=\"T_df364_row10_col3\" class=\"data row10 col3\" >0.7347</td>\n",
       "      <td id=\"T_df364_row10_col4\" class=\"data row10 col4\" >0.5398</td>\n",
       "      <td id=\"T_df364_row10_col5\" class=\"data row10 col5\" >0.6223</td>\n",
       "      <td id=\"T_df364_row10_col6\" class=\"data row10 col6\" >0.0000</td>\n",
       "      <td id=\"T_df364_row10_col7\" class=\"data row10 col7\" >0.0000</td>\n",
       "      <td id=\"T_df364_row10_col8\" class=\"data row10 col8\" >0.1900</td>\n",
       "    </tr>\n",
       "    <tr>\n",
       "      <th id=\"T_df364_level0_row11\" class=\"row_heading level0 row11\" >dummy</th>\n",
       "      <td id=\"T_df364_row11_col0\" class=\"data row11 col0\" >Dummy Classifier</td>\n",
       "      <td id=\"T_df364_row11_col1\" class=\"data row11 col1\" >0.7347</td>\n",
       "      <td id=\"T_df364_row11_col2\" class=\"data row11 col2\" >0.5000</td>\n",
       "      <td id=\"T_df364_row11_col3\" class=\"data row11 col3\" >0.7347</td>\n",
       "      <td id=\"T_df364_row11_col4\" class=\"data row11 col4\" >0.5398</td>\n",
       "      <td id=\"T_df364_row11_col5\" class=\"data row11 col5\" >0.6223</td>\n",
       "      <td id=\"T_df364_row11_col6\" class=\"data row11 col6\" >0.0000</td>\n",
       "      <td id=\"T_df364_row11_col7\" class=\"data row11 col7\" >0.0000</td>\n",
       "      <td id=\"T_df364_row11_col8\" class=\"data row11 col8\" >0.1980</td>\n",
       "    </tr>\n",
       "    <tr>\n",
       "      <th id=\"T_df364_level0_row12\" class=\"row_heading level0 row12\" >svm</th>\n",
       "      <td id=\"T_df364_row12_col0\" class=\"data row12 col0\" >SVM - Linear Kernel</td>\n",
       "      <td id=\"T_df364_row12_col1\" class=\"data row12 col1\" >0.7659</td>\n",
       "      <td id=\"T_df364_row12_col2\" class=\"data row12 col2\" >0.0000</td>\n",
       "      <td id=\"T_df364_row12_col3\" class=\"data row12 col3\" >0.7659</td>\n",
       "      <td id=\"T_df364_row12_col4\" class=\"data row12 col4\" >0.7458</td>\n",
       "      <td id=\"T_df364_row12_col5\" class=\"data row12 col5\" >0.7412</td>\n",
       "      <td id=\"T_df364_row12_col6\" class=\"data row12 col6\" >0.3022</td>\n",
       "      <td id=\"T_df364_row12_col7\" class=\"data row12 col7\" >0.3240</td>\n",
       "      <td id=\"T_df364_row12_col8\" class=\"data row12 col8\" >0.1840</td>\n",
       "    </tr>\n",
       "    <tr>\n",
       "      <th id=\"T_df364_level0_row13\" class=\"row_heading level0 row13\" >ridge</th>\n",
       "      <td id=\"T_df364_row13_col0\" class=\"data row13 col0\" >Ridge Classifier</td>\n",
       "      <td id=\"T_df364_row13_col1\" class=\"data row13 col1\" >0.7347</td>\n",
       "      <td id=\"T_df364_row13_col2\" class=\"data row13 col2\" >0.0000</td>\n",
       "      <td id=\"T_df364_row13_col3\" class=\"data row13 col3\" >0.7347</td>\n",
       "      <td id=\"T_df364_row13_col4\" class=\"data row13 col4\" >0.5398</td>\n",
       "      <td id=\"T_df364_row13_col5\" class=\"data row13 col5\" >0.6223</td>\n",
       "      <td id=\"T_df364_row13_col6\" class=\"data row13 col6\" >0.0000</td>\n",
       "      <td id=\"T_df364_row13_col7\" class=\"data row13 col7\" >0.0000</td>\n",
       "      <td id=\"T_df364_row13_col8\" class=\"data row13 col8\" >0.1560</td>\n",
       "    </tr>\n",
       "  </tbody>\n",
       "</table>\n"
      ],
      "text/plain": [
       "<pandas.io.formats.style.Styler at 0x2ad59775410>"
      ]
     },
     "metadata": {},
     "output_type": "display_data"
    },
    {
     "data": {
      "text/html": [],
      "text/plain": [
       "<IPython.core.display.HTML object>"
      ]
     },
     "metadata": {},
     "output_type": "display_data"
    }
   ],
   "source": [
    "best_model = compare_models(fold=5, sort='AUC')\n"
   ]
  },
  {
   "cell_type": "code",
   "execution_count": 4,
   "id": "95d8722d",
   "metadata": {
    "scrolled": true
   },
   "outputs": [
    {
     "data": {
      "text/html": [],
      "text/plain": [
       "<IPython.core.display.HTML object>"
      ]
     },
     "metadata": {},
     "output_type": "display_data"
    },
    {
     "data": {
      "text/html": [
       "<style type=\"text/css\">\n",
       "#T_9336c_row10_col0, #T_9336c_row10_col1, #T_9336c_row10_col2, #T_9336c_row10_col3, #T_9336c_row10_col4, #T_9336c_row10_col5, #T_9336c_row10_col6 {\n",
       "  background: yellow;\n",
       "}\n",
       "</style>\n",
       "<table id=\"T_9336c\">\n",
       "  <thead>\n",
       "    <tr>\n",
       "      <th class=\"blank level0\" >&nbsp;</th>\n",
       "      <th id=\"T_9336c_level0_col0\" class=\"col_heading level0 col0\" >Accuracy</th>\n",
       "      <th id=\"T_9336c_level0_col1\" class=\"col_heading level0 col1\" >AUC</th>\n",
       "      <th id=\"T_9336c_level0_col2\" class=\"col_heading level0 col2\" >Recall</th>\n",
       "      <th id=\"T_9336c_level0_col3\" class=\"col_heading level0 col3\" >Prec.</th>\n",
       "      <th id=\"T_9336c_level0_col4\" class=\"col_heading level0 col4\" >F1</th>\n",
       "      <th id=\"T_9336c_level0_col5\" class=\"col_heading level0 col5\" >Kappa</th>\n",
       "      <th id=\"T_9336c_level0_col6\" class=\"col_heading level0 col6\" >MCC</th>\n",
       "    </tr>\n",
       "    <tr>\n",
       "      <th class=\"index_name level0\" >Fold</th>\n",
       "      <th class=\"blank col0\" >&nbsp;</th>\n",
       "      <th class=\"blank col1\" >&nbsp;</th>\n",
       "      <th class=\"blank col2\" >&nbsp;</th>\n",
       "      <th class=\"blank col3\" >&nbsp;</th>\n",
       "      <th class=\"blank col4\" >&nbsp;</th>\n",
       "      <th class=\"blank col5\" >&nbsp;</th>\n",
       "      <th class=\"blank col6\" >&nbsp;</th>\n",
       "    </tr>\n",
       "  </thead>\n",
       "  <tbody>\n",
       "    <tr>\n",
       "      <th id=\"T_9336c_level0_row0\" class=\"row_heading level0 row0\" >0</th>\n",
       "      <td id=\"T_9336c_row0_col0\" class=\"data row0 col0\" >0.7972</td>\n",
       "      <td id=\"T_9336c_row0_col1\" class=\"data row0 col1\" >0.8324</td>\n",
       "      <td id=\"T_9336c_row0_col2\" class=\"data row0 col2\" >0.7972</td>\n",
       "      <td id=\"T_9336c_row0_col3\" class=\"data row0 col3\" >0.7909</td>\n",
       "      <td id=\"T_9336c_row0_col4\" class=\"data row0 col4\" >0.7933</td>\n",
       "      <td id=\"T_9336c_row0_col5\" class=\"data row0 col5\" >0.4589</td>\n",
       "      <td id=\"T_9336c_row0_col6\" class=\"data row0 col6\" >0.4603</td>\n",
       "    </tr>\n",
       "    <tr>\n",
       "      <th id=\"T_9336c_level0_row1\" class=\"row_heading level0 row1\" >1</th>\n",
       "      <td id=\"T_9336c_row1_col0\" class=\"data row1 col0\" >0.8012</td>\n",
       "      <td id=\"T_9336c_row1_col1\" class=\"data row1 col1\" >0.8396</td>\n",
       "      <td id=\"T_9336c_row1_col2\" class=\"data row1 col2\" >0.8012</td>\n",
       "      <td id=\"T_9336c_row1_col3\" class=\"data row1 col3\" >0.7952</td>\n",
       "      <td id=\"T_9336c_row1_col4\" class=\"data row1 col4\" >0.7974</td>\n",
       "      <td id=\"T_9336c_row1_col5\" class=\"data row1 col5\" >0.4698</td>\n",
       "      <td id=\"T_9336c_row1_col6\" class=\"data row1 col6\" >0.4711</td>\n",
       "    </tr>\n",
       "    <tr>\n",
       "      <th id=\"T_9336c_level0_row2\" class=\"row_heading level0 row2\" >2</th>\n",
       "      <td id=\"T_9336c_row2_col0\" class=\"data row2 col0\" >0.8134</td>\n",
       "      <td id=\"T_9336c_row2_col1\" class=\"data row2 col1\" >0.8467</td>\n",
       "      <td id=\"T_9336c_row2_col2\" class=\"data row2 col2\" >0.8134</td>\n",
       "      <td id=\"T_9336c_row2_col3\" class=\"data row2 col3\" >0.8057</td>\n",
       "      <td id=\"T_9336c_row2_col4\" class=\"data row2 col4\" >0.8076</td>\n",
       "      <td id=\"T_9336c_row2_col5\" class=\"data row2 col5\" >0.4947</td>\n",
       "      <td id=\"T_9336c_row2_col6\" class=\"data row2 col6\" >0.4984</td>\n",
       "    </tr>\n",
       "    <tr>\n",
       "      <th id=\"T_9336c_level0_row3\" class=\"row_heading level0 row3\" >3</th>\n",
       "      <td id=\"T_9336c_row3_col0\" class=\"data row3 col0\" >0.8012</td>\n",
       "      <td id=\"T_9336c_row3_col1\" class=\"data row3 col1\" >0.8634</td>\n",
       "      <td id=\"T_9336c_row3_col2\" class=\"data row3 col2\" >0.8012</td>\n",
       "      <td id=\"T_9336c_row3_col3\" class=\"data row3 col3\" >0.7911</td>\n",
       "      <td id=\"T_9336c_row3_col4\" class=\"data row3 col4\" >0.7930</td>\n",
       "      <td id=\"T_9336c_row3_col5\" class=\"data row3 col5\" >0.4533</td>\n",
       "      <td id=\"T_9336c_row3_col6\" class=\"data row3 col6\" >0.4589</td>\n",
       "    </tr>\n",
       "    <tr>\n",
       "      <th id=\"T_9336c_level0_row4\" class=\"row_heading level0 row4\" >4</th>\n",
       "      <td id=\"T_9336c_row4_col0\" class=\"data row4 col0\" >0.8053</td>\n",
       "      <td id=\"T_9336c_row4_col1\" class=\"data row4 col1\" >0.8311</td>\n",
       "      <td id=\"T_9336c_row4_col2\" class=\"data row4 col2\" >0.8053</td>\n",
       "      <td id=\"T_9336c_row4_col3\" class=\"data row4 col3\" >0.7970</td>\n",
       "      <td id=\"T_9336c_row4_col4\" class=\"data row4 col4\" >0.7992</td>\n",
       "      <td id=\"T_9336c_row4_col5\" class=\"data row4 col5\" >0.4727</td>\n",
       "      <td id=\"T_9336c_row4_col6\" class=\"data row4 col6\" >0.4762</td>\n",
       "    </tr>\n",
       "    <tr>\n",
       "      <th id=\"T_9336c_level0_row5\" class=\"row_heading level0 row5\" >5</th>\n",
       "      <td id=\"T_9336c_row5_col0\" class=\"data row5 col0\" >0.7931</td>\n",
       "      <td id=\"T_9336c_row5_col1\" class=\"data row5 col1\" >0.8523</td>\n",
       "      <td id=\"T_9336c_row5_col2\" class=\"data row5 col2\" >0.7931</td>\n",
       "      <td id=\"T_9336c_row5_col3\" class=\"data row5 col3\" >0.7921</td>\n",
       "      <td id=\"T_9336c_row5_col4\" class=\"data row5 col4\" >0.7926</td>\n",
       "      <td id=\"T_9336c_row5_col5\" class=\"data row5 col5\" >0.4672</td>\n",
       "      <td id=\"T_9336c_row5_col6\" class=\"data row5 col6\" >0.4672</td>\n",
       "    </tr>\n",
       "    <tr>\n",
       "      <th id=\"T_9336c_level0_row6\" class=\"row_heading level0 row6\" >6</th>\n",
       "      <td id=\"T_9336c_row6_col0\" class=\"data row6 col0\" >0.7769</td>\n",
       "      <td id=\"T_9336c_row6_col1\" class=\"data row6 col1\" >0.8122</td>\n",
       "      <td id=\"T_9336c_row6_col2\" class=\"data row6 col2\" >0.7769</td>\n",
       "      <td id=\"T_9336c_row6_col3\" class=\"data row6 col3\" >0.7718</td>\n",
       "      <td id=\"T_9336c_row6_col4\" class=\"data row6 col4\" >0.7740</td>\n",
       "      <td id=\"T_9336c_row6_col5\" class=\"data row6 col5\" >0.4139</td>\n",
       "      <td id=\"T_9336c_row6_col6\" class=\"data row6 col6\" >0.4145</td>\n",
       "    </tr>\n",
       "    <tr>\n",
       "      <th id=\"T_9336c_level0_row7\" class=\"row_heading level0 row7\" >7</th>\n",
       "      <td id=\"T_9336c_row7_col0\" class=\"data row7 col0\" >0.7769</td>\n",
       "      <td id=\"T_9336c_row7_col1\" class=\"data row7 col1\" >0.8222</td>\n",
       "      <td id=\"T_9336c_row7_col2\" class=\"data row7 col2\" >0.7769</td>\n",
       "      <td id=\"T_9336c_row7_col3\" class=\"data row7 col3\" >0.7699</td>\n",
       "      <td id=\"T_9336c_row7_col4\" class=\"data row7 col4\" >0.7727</td>\n",
       "      <td id=\"T_9336c_row7_col5\" class=\"data row7 col5\" >0.4080</td>\n",
       "      <td id=\"T_9336c_row7_col6\" class=\"data row7 col6\" >0.4092</td>\n",
       "    </tr>\n",
       "    <tr>\n",
       "      <th id=\"T_9336c_level0_row8\" class=\"row_heading level0 row8\" >8</th>\n",
       "      <td id=\"T_9336c_row8_col0\" class=\"data row8 col0\" >0.7688</td>\n",
       "      <td id=\"T_9336c_row8_col1\" class=\"data row8 col1\" >0.8304</td>\n",
       "      <td id=\"T_9336c_row8_col2\" class=\"data row8 col2\" >0.7688</td>\n",
       "      <td id=\"T_9336c_row8_col3\" class=\"data row8 col3\" >0.7634</td>\n",
       "      <td id=\"T_9336c_row8_col4\" class=\"data row8 col4\" >0.7657</td>\n",
       "      <td id=\"T_9336c_row8_col5\" class=\"data row8 col5\" >0.3926</td>\n",
       "      <td id=\"T_9336c_row8_col6\" class=\"data row8 col6\" >0.3932</td>\n",
       "    </tr>\n",
       "    <tr>\n",
       "      <th id=\"T_9336c_level0_row9\" class=\"row_heading level0 row9\" >9</th>\n",
       "      <td id=\"T_9336c_row9_col0\" class=\"data row9 col0\" >0.7586</td>\n",
       "      <td id=\"T_9336c_row9_col1\" class=\"data row9 col1\" >0.8073</td>\n",
       "      <td id=\"T_9336c_row9_col2\" class=\"data row9 col2\" >0.7586</td>\n",
       "      <td id=\"T_9336c_row9_col3\" class=\"data row9 col3\" >0.7557</td>\n",
       "      <td id=\"T_9336c_row9_col4\" class=\"data row9 col4\" >0.7571</td>\n",
       "      <td id=\"T_9336c_row9_col5\" class=\"data row9 col5\" >0.3738</td>\n",
       "      <td id=\"T_9336c_row9_col6\" class=\"data row9 col6\" >0.3739</td>\n",
       "    </tr>\n",
       "    <tr>\n",
       "      <th id=\"T_9336c_level0_row10\" class=\"row_heading level0 row10\" >Mean</th>\n",
       "      <td id=\"T_9336c_row10_col0\" class=\"data row10 col0\" >0.7892</td>\n",
       "      <td id=\"T_9336c_row10_col1\" class=\"data row10 col1\" >0.8337</td>\n",
       "      <td id=\"T_9336c_row10_col2\" class=\"data row10 col2\" >0.7892</td>\n",
       "      <td id=\"T_9336c_row10_col3\" class=\"data row10 col3\" >0.7833</td>\n",
       "      <td id=\"T_9336c_row10_col4\" class=\"data row10 col4\" >0.7853</td>\n",
       "      <td id=\"T_9336c_row10_col5\" class=\"data row10 col5\" >0.4405</td>\n",
       "      <td id=\"T_9336c_row10_col6\" class=\"data row10 col6\" >0.4423</td>\n",
       "    </tr>\n",
       "    <tr>\n",
       "      <th id=\"T_9336c_level0_row11\" class=\"row_heading level0 row11\" >Std</th>\n",
       "      <td id=\"T_9336c_row11_col0\" class=\"data row11 col0\" >0.0169</td>\n",
       "      <td id=\"T_9336c_row11_col1\" class=\"data row11 col1\" >0.0166</td>\n",
       "      <td id=\"T_9336c_row11_col2\" class=\"data row11 col2\" >0.0169</td>\n",
       "      <td id=\"T_9336c_row11_col3\" class=\"data row11 col3\" >0.0158</td>\n",
       "      <td id=\"T_9336c_row11_col4\" class=\"data row11 col4\" >0.0157</td>\n",
       "      <td id=\"T_9336c_row11_col5\" class=\"data row11 col5\" >0.0381</td>\n",
       "      <td id=\"T_9336c_row11_col6\" class=\"data row11 col6\" >0.0391</td>\n",
       "    </tr>\n",
       "  </tbody>\n",
       "</table>\n"
      ],
      "text/plain": [
       "<pandas.io.formats.style.Styler at 0x2ad5bab51d0>"
      ]
     },
     "metadata": {},
     "output_type": "display_data"
    },
    {
     "data": {
      "text/html": [],
      "text/plain": [
       "<IPython.core.display.HTML object>"
      ]
     },
     "metadata": {},
     "output_type": "display_data"
    },
    {
     "name": "stdout",
     "output_type": "stream",
     "text": [
      "Fitting 10 folds for each of 10 candidates, totalling 100 fits\n"
     ]
    }
   ],
   "source": [
    "tuned_model = tune_model(best_model)\n"
   ]
  },
  {
   "cell_type": "code",
   "execution_count": 5,
   "id": "bc091686",
   "metadata": {
    "scrolled": false
   },
   "outputs": [
    {
     "data": {
      "application/vnd.jupyter.widget-view+json": {
       "model_id": "674be51c122b480884ec06c54df514a7",
       "version_major": 2,
       "version_minor": 0
      },
      "text/plain": [
       "interactive(children=(ToggleButtons(description='Plot Type:', icons=('',), options=(('Pipeline Plot', 'pipelin…"
      ]
     },
     "metadata": {},
     "output_type": "display_data"
    }
   ],
   "source": [
    "evaluate_model(tuned_model)"
   ]
  },
  {
   "cell_type": "code",
   "execution_count": 6,
   "id": "5405d428",
   "metadata": {
    "scrolled": true
   },
   "outputs": [
    {
     "name": "stdout",
     "output_type": "stream",
     "text": [
      "Transformation Pipeline and Model Successfully Saved\n"
     ]
    },
    {
     "data": {
      "text/plain": [
       "(Pipeline(memory=Memory(location=None),\n",
       "          steps=[('label_encoding',\n",
       "                  TransformerWrapperWithInverse(exclude=None, include=None,\n",
       "                                                transformer=LabelEncoder())),\n",
       "                 ('numerical_imputer',\n",
       "                  TransformerWrapper(exclude=None,\n",
       "                                     include=['tenure', 'MonthlyCharges',\n",
       "                                              'TotalCharges'],\n",
       "                                     transformer=SimpleImputer(add_indicator=False,\n",
       "                                                               copy=True,\n",
       "                                                               fill_value=None,\n",
       "                                                               keep_empty_features=False,...\n",
       "                                                               handle_unknown='value',\n",
       "                                                               hierarchy=None,\n",
       "                                                               min_samples_leaf=20,\n",
       "                                                               return_df=True,\n",
       "                                                               smoothing=10,\n",
       "                                                               verbose=0))),\n",
       "                 ('trained_model',\n",
       "                  LogisticRegression(C=1.0, class_weight=None, dual=False,\n",
       "                                     fit_intercept=True, intercept_scaling=1,\n",
       "                                     l1_ratio=None, max_iter=1000,\n",
       "                                     multi_class='auto', n_jobs=None,\n",
       "                                     penalty='l2', random_state=42,\n",
       "                                     solver='lbfgs', tol=0.0001, verbose=0,\n",
       "                                     warm_start=False))],\n",
       "          verbose=False),\n",
       " 'saved_churn_model.pkl')"
      ]
     },
     "execution_count": 6,
     "metadata": {},
     "output_type": "execute_result"
    }
   ],
   "source": [
    "save_model(best_model, 'saved_churn_model')"
   ]
  },
  {
   "cell_type": "code",
   "execution_count": 7,
   "id": "545ef1c8",
   "metadata": {},
   "outputs": [],
   "source": [
    "import pandas as pd\n",
    "from pycaret.classification import load_model\n",
    "\n",
    "def predict_churn_probabilities(new_data):\n",
    "    model = load_model('saved_churn_model.pkl')\n",
    "\n",
    "    predictions = predict_model(model, data=new_data)\n",
    "\n",
    "    print(predictions['Label'])\n"
   ]
  },
  {
   "cell_type": "code",
   "execution_count": 8,
   "id": "92b1b0f1",
   "metadata": {},
   "outputs": [
    {
     "name": "stdout",
     "output_type": "stream",
     "text": [
      "Transformation Pipeline and Model Successfully Loaded\n"
     ]
    }
   ],
   "source": [
    "model = load_model('saved_churn_model')"
   ]
  },
  {
   "cell_type": "code",
   "execution_count": 9,
   "id": "0cef8842",
   "metadata": {},
   "outputs": [
    {
     "name": "stdout",
     "output_type": "stream",
     "text": [
      "Transformation Pipeline and Model Successfully Loaded\n"
     ]
    },
    {
     "data": {
      "text/html": [],
      "text/plain": [
       "<IPython.core.display.HTML object>"
      ]
     },
     "metadata": {},
     "output_type": "display_data"
    },
    {
     "name": "stdout",
     "output_type": "stream",
     "text": [
      "Index(['customerID', 'tenure', 'PhoneService', 'Contract', 'PaymentMethod',\n",
      "       'MonthlyCharges', 'TotalCharges', 'charge_per_tenure',\n",
      "       'prediction_label', 'prediction_score'],\n",
      "      dtype='object')\n",
      "0     36.895454\n",
      "1    212.743744\n",
      "2      8.960714\n",
      "3     50.105808\n",
      "4    344.096985\n",
      "Name: charge_per_tenure, dtype: float32\n"
     ]
    }
   ],
   "source": [
    "import pandas as pd\n",
    "from pycaret.classification import load_model, predict_model\n",
    "\n",
    "def predict_churn_probabilities(new_data):\n",
    "    model = load_model('saved_churn_model')\n",
    "\n",
    "    predictions = predict_model(model, data=new_data)\n",
    "\n",
    "    print(predictions.columns)\n",
    "\n",
    "    if 'Label' in predictions.columns:\n",
    "        print(predictions['Label'])  \n",
    "    elif 'Score' in predictions.columns:\n",
    "        print(predictions['Score'])  \n",
    "    elif 'charge_per_tenure' in predictions.columns:\n",
    "        print(predictions['charge_per_tenure'])  \n",
    "    else:\n",
    "        print(\"No probability column found in predictions.\")\n",
    "\n",
    "new_churn_data = pd.read_csv('D:/new_churn_data.csv')\n",
    "true_values = [1, 0, 0, 1, 0]\n",
    "\n",
    "predict_churn_probabilities(new_churn_data)\n"
   ]
  },
  {
   "cell_type": "markdown",
   "id": "c49db562",
   "metadata": {},
   "source": [
    "# Summary"
   ]
  },
  {
   "cell_type": "markdown",
   "id": "9533a1cd",
   "metadata": {},
   "source": [
    "Write a short summary of the process and results here."
   ]
  },
  {
   "cell_type": "markdown",
   "id": "144d22dd",
   "metadata": {},
   "source": [
    "The Python script successfully loaded a pre-trained churn prediction model using Pycaret. Utilizing the model, it made accurate predictions on new customer data, showcasing the model's reliability. The script dynamically identified the appropriate column for probability scores, offering flexibility. This streamlined process highlights the efficiency of Pycaret for deploying machine learning models. The script demonstrated the seamless integration of a saved model for practical churn prediction tasks."
   ]
  }
 ],
 "metadata": {
  "kernelspec": {
   "display_name": "Python 3 (ipykernel)",
   "language": "python",
   "name": "python3"
  },
  "language_info": {
   "codemirror_mode": {
    "name": "ipython",
    "version": 3
   },
   "file_extension": ".py",
   "mimetype": "text/x-python",
   "name": "python",
   "nbconvert_exporter": "python",
   "pygments_lexer": "ipython3",
   "version": "3.11.5"
  }
 },
 "nbformat": 4,
 "nbformat_minor": 5
}
